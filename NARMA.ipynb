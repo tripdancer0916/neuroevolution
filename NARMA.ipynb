{
 "cells": [
  {
   "cell_type": "code",
   "execution_count": 1,
   "metadata": {
    "collapsed": true
   },
   "outputs": [],
   "source": [
    "# Leaky integrator model of Echo State Network\n",
    "import numpy as np\n",
    "from matplotlib import pyplot as plt\n",
    "% matplotlib inline"
   ]
  },
  {
   "cell_type": "code",
   "execution_count": 50,
   "metadata": {
    "collapsed": true
   },
   "outputs": [],
   "source": [
    "def correct_dimensions(s, targetlength):\n",
    "    if s is not None:\n",
    "        s = np.array(s)\n",
    "        if s.ndim == 0:\n",
    "            s = np.array([s] * targetlength)\n",
    "        elif s.ndim == 1:\n",
    "            if not len(s) == targetlength:\n",
    "                raise ValueError(\"arg must have length \" + str(targetlength))\n",
    "        else:\n",
    "            raise ValueError(\"Invalid argument\")\n",
    "    return s\n",
    "\n",
    "\n",
    "def identity(x):\n",
    "    return x\n",
    "\n",
    "\n",
    "class LI_ESN_internal:\n",
    "\n",
    "    def __init__(self, n_inputs, n_outputs, n_reservoir=200,\n",
    "                 spectral_radius=0.95, sparsity=0, noise=0.001, input_shift=None,\n",
    "                 input_scaling=None, feedback_scaling=None,\n",
    "                 teacher_scaling=None, teacher_shift=None,\n",
    "                 out_activation=identity, inverse_out_activation=identity,\n",
    "                 internal_node=5,\n",
    "                 random_state=None, time_scale=None):\n",
    "        # check for proper dimensionality of all arguments and write them down.\n",
    "        self.n_inputs = n_inputs\n",
    "        self.n_reservoir = n_reservoir\n",
    "        self.n_outputs = n_outputs\n",
    "        self.spectral_radius = spectral_radius\n",
    "        self.sparsity = sparsity\n",
    "        self.noise = noise\n",
    "        self.internal_node = internal_node\n",
    "        self.input_shift = correct_dimensions(input_shift, n_inputs)\n",
    "        self.input_scaling = correct_dimensions(input_scaling, n_inputs)\n",
    "\n",
    "        self.teacher_scaling = teacher_scaling\n",
    "        self.teacher_shift = teacher_shift\n",
    "\n",
    "        self.out_activation = out_activation\n",
    "        self.inverse_out_activation = inverse_out_activation\n",
    "        self.random_state = random_state\n",
    "        self.time_scale = time_scale\n",
    "\n",
    "        # the given random_state might be either an actual RandomState object,\n",
    "        # a seed or None (in which case we use numpy's builtin RandomState)\n",
    "        if isinstance(random_state, np.random.RandomState):\n",
    "            self.random_state_ = random_state\n",
    "        elif random_state:\n",
    "            try:\n",
    "                self.random_state_ = np.random.RandomState(random_state)\n",
    "            except TypeError as e:\n",
    "                raise Exception(\"Invalid seed: \" + str(e))\n",
    "        else:\n",
    "            self.random_state_ = np.random.mtrand._rand\n",
    "\n",
    "        self.initweights()\n",
    "\n",
    "    def initweights(self):\n",
    "        # initialize recurrent weights:\n",
    "        # begin with a random matrix centered around zero:\n",
    "        W = np.random.normal(0, 1/self.n_reservoir, (self.n_reservoir, self.n_reservoir))\n",
    "        \n",
    "        # delete the fraction of connections given by (self.sparsity):\n",
    "        W[self.random_state_.rand(*W.shape) < self.sparsity] = 0\n",
    "        \n",
    "        # compute the spectral radius of these weights:\n",
    "        radius = np.max(np.abs(np.linalg.eigvals(W)))\n",
    "        \n",
    "        # rescale them to reach the requested spectral radius:\n",
    "        self.W = W * (self.spectral_radius / radius)\n",
    "\n",
    "        # random input weights:\n",
    "        self.W_in = (np.random.rand(self.n_reservoir, self.n_inputs) * 2 - 1)*0.1\n",
    "        self.W_in[-self.internal_node:] = [0]\n",
    "\n",
    "    def _update(self, state, input_pattern):\n",
    "        # leaky integrator model\n",
    "        preactivation = (np.dot(self.W, state)\n",
    "                         + np.dot(self.W_in, input_pattern))\n",
    "        state = (1 - self.time_scale) * state + self.time_scale * np.tanh(preactivation)\n",
    "        return (state + self.noise * self.time_scale * (self.random_state_.rand(self.n_reservoir) - 0.5))\n",
    "\n",
    "    def calc_lyapunov_exp(self, inputs, initial_distance, n):\n",
    "        if inputs.ndim < 2:\n",
    "            inputs = np.reshape(inputs, (len(inputs), -1))\n",
    "        states1 = np.zeros((inputs.shape[0], self.n_reservoir))\n",
    "        states2 = np.zeros((inputs.shape[0], self.n_reservoir))\n",
    "        transient = min(int(inputs.shape[0] / 10), 100)\n",
    "        for i in range(1, transient):\n",
    "            states1[i, :] = self._update(states1[i-1], inputs[i, :])\n",
    "        states2[transient-1, :] = states1[transient-1, :]\n",
    "        states2[transient-1, n] = states2[transient-1, n] + initial_distance\n",
    "        gamma_k_list = []\n",
    "        for k in range(transient, inputs.shape[0]):\n",
    "            states1[k, :] = self._update(states1[k-1], inputs[k, :])\n",
    "            states2[k, :] = self._update(states2[k-1], inputs[k, :])\n",
    "            gamma_k = np.linalg.norm(states2[k, :]-states1[k, :])\n",
    "            # print(gamma_k/initial_distance)\n",
    "            gamma_k_list.append(gamma_k/initial_distance)\n",
    "            states2[k, :] = states1[k, :] + (initial_distance/gamma_k)*(states2[k, :]-states1[k, :])\n",
    "        lyapunov_exp = np.mean(np.log(gamma_k_list))\n",
    "        return lyapunov_exp\n",
    "            \n",
    "    \n",
    "    def fit(self, inputs, outputs):\n",
    "        if inputs.ndim < 2:\n",
    "            inputs = np.reshape(inputs, (len(inputs), -1))\n",
    "        if outputs.ndim < 2:\n",
    "            outputs = np.reshape(outputs, (len(outputs), -1))\n",
    "        inputs_scaled = inputs\n",
    "        teachers_scaled = outputs\n",
    "\n",
    "        # step the reservoir through the given input,output pairs:\n",
    "        states = np.zeros((inputs.shape[0], self.n_reservoir))\n",
    "        for n in range(1, inputs.shape[0]):\n",
    "            states[n, :] = self._update(states[n - 1], inputs_scaled[n, :])\n",
    "        transient = min(int(inputs.shape[0] / 10), 100)\n",
    "        \n",
    "        self.W_out = np.dot(np.linalg.pinv(states[transient:, :-self.internal_node]),teachers_scaled[transient:, :]).T\n",
    "\n",
    "        # remember the last state for later:\n",
    "        self.laststate = states[-1, :]\n",
    "        self.lastinput = inputs[-1, :]\n",
    "        self.lastoutput = teachers_scaled[-1, :]\n",
    "            \n",
    "        # apply learned weights to the collected states:\n",
    "        # print(states.shape)\n",
    "        pred_train = np.dot(states[:, :-self.internal_node], self.W_out.T)\n",
    "        # print(self.W_out.T.shape)\n",
    "        return pred_train\n",
    "\n",
    "    def predict(self, inputs, continuation=True):\n",
    "        if inputs.ndim < 2:\n",
    "            inputs = np.reshape(inputs, (len(inputs), -1))\n",
    "        n_samples = inputs.shape[0]\n",
    "\n",
    "        if continuation:\n",
    "            laststate = self.laststate\n",
    "            lastinput = self.lastinput\n",
    "            lastoutput = self.lastoutput\n",
    "        else:\n",
    "            laststate = np.zeros(self.n_reservoir)\n",
    "            lastinput = np.zeros(self.n_inputs)\n",
    "            lastoutput = np.zeros(self.n_outputs)\n",
    "\n",
    "        inputs = np.vstack([lastinput, inputs])\n",
    "        states = np.vstack(\n",
    "            [laststate, np.zeros((n_samples, self.n_reservoir))])\n",
    "        outputs = np.vstack(\n",
    "            [lastoutput, np.zeros((n_samples, self.n_outputs))])\n",
    "\n",
    "        for n in range(n_samples):\n",
    "            states[n + 1, :] = self._update(states[n, :], inputs[n + 1, :])\n",
    "            outputs[n + 1, :] = np.dot(self.W_out,states[n + 1, :-self.internal_node])\n",
    "\n",
    "        return self.out_activation(outputs[1:])\n"
   ]
  },
  {
   "cell_type": "code",
   "execution_count": 51,
   "metadata": {
    "collapsed": true
   },
   "outputs": [],
   "source": [
    "def make_data_for_narma(length):\n",
    "    tau = 0.01\n",
    "    buffer = 100\n",
    "    x = np.random.rand(length+100)*0.5\n",
    "    y = np.zeros(length)\n",
    "    for i in range(length):\n",
    "        if i < 29:\n",
    "            y[i] = 0.2*y[i-1] + 0.004*y[i-1]*np.sum(np.hstack((y[i-29:], y[:i]))) + 1.5*x[i-29+100]*x[i+100] + 0.001\n",
    "        else:\n",
    "            y[i] = 0.2*y[i-1] + 0.004*y[i-1]*np.sum(np.hstack((y[i-29:i]))) + 1.5*x[i-29+100]*x[i+100] + 0.001\n",
    "    return x, y"
   ]
  },
  {
   "cell_type": "code",
   "execution_count": 412,
   "metadata": {
    "collapsed": true
   },
   "outputs": [],
   "source": [
    "N = 155\n",
    "# spectral radius\n",
    "rou = 0.99\n",
    "trainlen = 1200\n",
    "future = 1000\n",
    "buffer = 100\n",
    "\n",
    "\n",
    "time_scale = np.ones(N)*0.95\n",
    "# time_scale[0] = 0.01\n",
    "# time_scale[-5:-2] = 0.7\n",
    "# time_scale[30:35] = 0.2\n",
    "# time_scale[35:37] = 0.1\n",
    "# time_scale[-1] = 0.01"
   ]
  },
  {
   "cell_type": "code",
   "execution_count": 524,
   "metadata": {
    "collapsed": true
   },
   "outputs": [],
   "source": [
    "data, target = make_data_for_narma(trainlen+future)\n",
    "esn = LI_ESN_internal(n_inputs=1,\n",
    "                      n_outputs=1,\n",
    "                      n_reservoir=N,\n",
    "                      sparsity=0.98,\n",
    "                      noise=1e-8,\n",
    "                      internal_node=5,\n",
    "                      spectral_radius=rou,\n",
    "                      time_scale=time_scale)\n",
    "\n",
    "\n",
    "pred_training = esn.fit(data[buffer:buffer+trainlen], target[:trainlen])\n",
    "\n",
    "prediction = esn.predict(data[trainlen+buffer:])"
   ]
  },
  {
   "cell_type": "code",
   "execution_count": 525,
   "metadata": {},
   "outputs": [
    {
     "name": "stdout",
     "output_type": "stream",
     "text": [
      "0.5117871940489103\n"
     ]
    }
   ],
   "source": [
    "narma = np.sqrt(np.mean((np.reshape(prediction, -1)-np.reshape(target[1200:], -1))**2)/np.var(target[1200:]))\n",
    "print(narma)"
   ]
  },
  {
   "cell_type": "code",
   "execution_count": 483,
   "metadata": {},
   "outputs": [
    {
     "data": {
      "text/plain": [
       "10.780896238035323"
      ]
     },
     "execution_count": 483,
     "metadata": {},
     "output_type": "execute_result"
    }
   ],
   "source": [
    "esn.calc_lyapunov_exp(data[buffer:buffer+trainlen], 1e-12, 0)"
   ]
  },
  {
   "cell_type": "code",
   "execution_count": 211,
   "metadata": {
    "collapsed": true
   },
   "outputs": [],
   "source": [
    "def memory_capacity(L, buffer, data, output_data):\n",
    "    trainlen = 1200\n",
    "    MC = 0\n",
    "    for k in range(L):\n",
    "        cov_matrix = np.cov(np.array([data[trainlen+buffer-(k+1): trainlen+buffer-(k+1)+1000],output_data.T[k]]))\n",
    "        MC_k = cov_matrix[0][1]**2\n",
    "        # print(MC_k)\n",
    "        MC_k = MC_k / (np.var(data[trainlen+buffer:])*np.var(output_data.T[k]))\n",
    "        # print(np.var(data[trainlen+buffer:])*np.var(output_data.T[k]))\n",
    "        # print(MC_k)\n",
    "        MC += MC_k\n",
    "    return MC"
   ]
  },
  {
   "cell_type": "code",
   "execution_count": 311,
   "metadata": {},
   "outputs": [
    {
     "name": "stdout",
     "output_type": "stream",
     "text": [
      "66.21613574345129\n"
     ]
    }
   ],
   "source": [
    "N = 155\n",
    "# delayed signal\n",
    "L = int(100*1.4)\n",
    "time_scale = np.ones(N)*0.95\n",
    "\n",
    "buffer = L\n",
    "total_len = 2200 + buffer\n",
    "tau = 0.01\n",
    "data = (np.random.rand(total_len)*2-1)*tau\n",
    "\n",
    "\n",
    "esn = LI_ESN_internal(n_inputs=1,\n",
    "                      n_outputs=L,\n",
    "                      n_reservoir=N,\n",
    "                      noise=0,\n",
    "                      internal_node=5,\n",
    "                      spectral_radius=rou,\n",
    "                      time_scale=time_scale)\n",
    "\n",
    "\n",
    "target = np.zeros((total_len - buffer, L))\n",
    "for i in range(L):\n",
    "    target.T[i][:] = data[buffer-(i+1):-(i+1)]\n",
    "\n",
    "pred_training = esn.fit(data[buffer:trainlen+buffer], target[:trainlen])\n",
    "\n",
    "prediction = esn.predict(data[trainlen+buffer:])\n",
    "\n",
    "\n",
    "    \n",
    "print(memory_capacity(L, buffer, data, prediction))\n"
   ]
  },
  {
   "cell_type": "code",
   "execution_count": null,
   "metadata": {
    "collapsed": true
   },
   "outputs": [],
   "source": []
  },
  {
   "cell_type": "code",
   "execution_count": null,
   "metadata": {
    "collapsed": true
   },
   "outputs": [],
   "source": []
  }
 ],
 "metadata": {
  "kernelspec": {
   "display_name": "Python 3",
   "language": "python",
   "name": "python3"
  },
  "language_info": {
   "codemirror_mode": {
    "name": "ipython",
    "version": 3
   },
   "file_extension": ".py",
   "mimetype": "text/x-python",
   "name": "python",
   "nbconvert_exporter": "python",
   "pygments_lexer": "ipython3",
   "version": "3.6.3"
  }
 },
 "nbformat": 4,
 "nbformat_minor": 2
}
